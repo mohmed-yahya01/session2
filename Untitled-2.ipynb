{
 "cells": [
  {
   "cell_type": "code",
   "execution_count": 15,
   "metadata": {},
   "outputs": [
    {
     "name": "stdout",
     "output_type": "stream",
     "text": [
      "contact name:\n",
      "mohmed\n",
      "omer\n",
      "yousef\n",
      "the phone number mohmed in contact\n"
     ]
    }
   ],
   "source": [
    "contact = {\n",
    "    'mohmed':'01559855470',\n",
    "    'omer':'01208883455',\n",
    "    'yousef':'01066048937'\n",
    "}\n",
    "\n",
    "print('contact name:')\n",
    "for name in contact:\n",
    "    print(name)\n",
    "\n",
    "search_name=input('n/enter contact name:') \n",
    "\n",
    "if search_name in contact:\n",
    "     print(f'the phone number {search_name} in contact')\n",
    "     \n",
    "else: \n",
    "    print(f'the phone number {search_name} doesnot in contact')     \n",
    "\n"
   ]
  }
 ],
 "metadata": {
  "kernelspec": {
   "display_name": "Python 3",
   "language": "python",
   "name": "python3"
  },
  "language_info": {
   "codemirror_mode": {
    "name": "ipython",
    "version": 3
   },
   "file_extension": ".py",
   "mimetype": "text/x-python",
   "name": "python",
   "nbconvert_exporter": "python",
   "pygments_lexer": "ipython3",
   "version": "3.13.1"
  }
 },
 "nbformat": 4,
 "nbformat_minor": 2
}
