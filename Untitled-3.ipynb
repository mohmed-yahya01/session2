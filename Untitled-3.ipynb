{
 "cells": [
  {
   "cell_type": "code",
   "execution_count": 7,
   "metadata": {},
   "outputs": [
    {
     "name": "stdout",
     "output_type": "stream",
     "text": [
      "Student Averages:\n",
      "omer: 84.33333333333333\n",
      "mohmed: 83.66666666666667\n",
      "yousef: 90.66666666666667\n"
     ]
    }
   ],
   "source": [
    "students = [\n",
    "      {\"name\": \"omer\", \"grades\": [85, 90, 78]},\n",
    "    {\"name\": \"mohmed\", \"grades\": [72, 88, 91]},\n",
    "    {\"name\": \"yousef\", \"grades\": [95, 85, 92]}\n",
    "]\n",
    "\n",
    "print(\"Student Averages:\")\n",
    "for student in students:\n",
    "    name = student[\"name\"]\n",
    "    grades = student[\"grades\"]\n",
    "    average_grade = sum(grades) / len(grades) \n",
    "    print(f\"{name}: {average_grade:}\")\n"
   ]
  }
 ],
 "metadata": {
  "kernelspec": {
   "display_name": "Python 3",
   "language": "python",
   "name": "python3"
  },
  "language_info": {
   "codemirror_mode": {
    "name": "ipython",
    "version": 3
   },
   "file_extension": ".py",
   "mimetype": "text/x-python",
   "name": "python",
   "nbconvert_exporter": "python",
   "pygments_lexer": "ipython3",
   "version": "3.13.1"
  }
 },
 "nbformat": 4,
 "nbformat_minor": 2
}
